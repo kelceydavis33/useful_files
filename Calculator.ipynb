{
 "cells": [
  {
   "cell_type": "code",
   "execution_count": 80,
   "id": "dda338bf",
   "metadata": {},
   "outputs": [],
   "source": [
    "import astropy.units as u\n",
    "import astropy.constants as c\n",
    "import numpy as np\n",
    "import matplotlib.pyplot as plt\n",
    "%matplotlib inline\n",
    "\n",
    "plt.rcParams['figure.figsize'] = (10, 10)\n",
    "plt.rc('axes', labelsize=14)\n",
    "plt.rc('axes', labelweight='bold')\n",
    "plt.rc('axes', titlesize=16)\n",
    "plt.rc('axes', titleweight='bold')\n",
    "plt.rc('font', family='sans-serif')"
   ]
  },
  {
   "cell_type": "code",
   "execution_count": 8,
   "id": "f72669d1",
   "metadata": {},
   "outputs": [
    {
     "data": {
      "text/latex": [
       "$1.8634595 \\times 10^{-11} \\; \\mathrm{\\frac{s\\,J^{1/2}}{kg^{1/2}}}$"
      ],
      "text/plain": [
       "<Quantity 1.86345953e-11 J(1/2) s / kg(1/2)>"
      ]
     },
     "execution_count": 8,
     "metadata": {},
     "output_type": "execute_result"
    }
   ],
   "source": [
    "T = 1.6e7 * u.K\n",
    "lamb = c.h/np.sqrt(2*np.pi*c.k_B*c.m_e*T)\n",
    "lamb"
   ]
  },
  {
   "cell_type": "code",
   "execution_count": 11,
   "id": "c4b5972b",
   "metadata": {},
   "outputs": [
    {
     "data": {
      "text/latex": [
       "$1.380649 \\times 10^{-23} \\; \\mathrm{\\frac{J}{K}}$"
      ],
      "text/plain": [
       "<<class 'astropy.constants.codata2018.CODATA2018'> name='Boltzmann constant' value=1.380649e-23 uncertainty=0.0 unit='J / K' reference='CODATA 2018'>"
      ]
     },
     "execution_count": 11,
     "metadata": {},
     "output_type": "execute_result"
    }
   ],
   "source": [
    "c.k_B"
   ]
  },
  {
   "cell_type": "code",
   "execution_count": 19,
   "id": "f6bbb786",
   "metadata": {},
   "outputs": [
    {
     "data": {
      "text/plain": [
       "2.1815656411646504e-13"
      ]
     },
     "execution_count": 19,
     "metadata": {},
     "output_type": "execute_result"
    }
   ],
   "source": [
    "(6.626e-34)/np.sqrt(2*np.pi*(6.64466e-27)*(1.381e-23)*(1.6e7))"
   ]
  },
  {
   "cell_type": "code",
   "execution_count": 22,
   "id": "bc4d45a5",
   "metadata": {},
   "outputs": [
    {
     "data": {
      "text/latex": [
       "$1.380649 \\times 10^{-23} \\; \\mathrm{\\frac{J}{K}}$"
      ],
      "text/plain": [
       "<<class 'astropy.constants.codata2018.CODATA2018'> name='Boltzmann constant' value=1.380649e-23 uncertainty=0.0 unit='J / K' reference='CODATA 2018'>"
      ]
     },
     "execution_count": 22,
     "metadata": {},
     "output_type": "execute_result"
    }
   ],
   "source": [
    "c.k_B"
   ]
  },
  {
   "cell_type": "code",
   "execution_count": 24,
   "id": "cd8986d9",
   "metadata": {},
   "outputs": [
    {
     "data": {
      "text/plain": [
       "2.111941872415689e+16"
      ]
     },
     "execution_count": 24,
     "metadata": {},
     "output_type": "execute_result"
    }
   ],
   "source": [
    "((6e4 / 1.67356e-27) + (1e5 / 1.67356e-27))*(1.380649E-23)*(1.6e7)"
   ]
  },
  {
   "cell_type": "code",
   "execution_count": 28,
   "id": "a1767e4d",
   "metadata": {},
   "outputs": [
    {
     "data": {
      "text/latex": [
       "$5.2608974 \\times 10^{12} \\; \\mathrm{\\frac{J}{m^{3}}}$"
      ],
      "text/plain": [
       "<Quantity 5.26089735e+12 J / m3>"
      ]
     },
     "execution_count": 28,
     "metadata": {},
     "output_type": "execute_result"
    }
   ],
   "source": [
    "(1/3)*(T**4)*((8*(np.pi**4)*(c.k_B**4))/(15*(c.c**3)*(c.h**3)))"
   ]
  },
  {
   "cell_type": "code",
   "execution_count": 35,
   "id": "a4add211",
   "metadata": {},
   "outputs": [
    {
     "data": {
      "text/latex": [
       "$9.1093837 \\times 10^{-31} \\; \\mathrm{kg}$"
      ],
      "text/plain": [
       "<<class 'astropy.constants.codata2018.CODATA2018'> name='Electron mass' value=9.1093837015e-31 uncertainty=2.8e-40 unit='kg' reference='CODATA 2018'>"
      ]
     },
     "execution_count": 35,
     "metadata": {},
     "output_type": "execute_result"
    }
   ],
   "source": [
    "c.m_e"
   ]
  },
  {
   "cell_type": "code",
   "execution_count": 42,
   "id": "9f299ecc",
   "metadata": {},
   "outputs": [
    {
     "data": {
      "text/latex": [
       "$1.0391103 \\times 10^{-40} \\; \\mathrm{\\frac{J^{2}\\,s^{2}}{kg\\,\\mathring{A}^{2}}}$"
      ],
      "text/plain": [
       "<Quantity 1.03911035e-40 J2 s2 / (Angstrom2 kg)>"
      ]
     },
     "execution_count": 42,
     "metadata": {},
     "output_type": "execute_result"
    }
   ],
   "source": [
    "m=3*c.m_p\n",
    "Nv=46/(u.AA**3)\n",
    "\n",
    "(c.hbar**2/(2*m))*(((2*np.pi*np.pi*Nv)**(2/3)))"
   ]
  },
  {
   "cell_type": "code",
   "execution_count": 44,
   "id": "5da888e3",
   "metadata": {},
   "outputs": [
    {
     "data": {
      "text/plain": [
       "0.007291666666666667"
      ]
     },
     "execution_count": 44,
     "metadata": {},
     "output_type": "execute_result"
    }
   ],
   "source": [
    "(7*3)/(24*8*15)"
   ]
  },
  {
   "cell_type": "code",
   "execution_count": 45,
   "id": "d4c9f543",
   "metadata": {},
   "outputs": [
    {
     "data": {
      "text/plain": [
       "2880"
      ]
     },
     "execution_count": 45,
     "metadata": {},
     "output_type": "execute_result"
    }
   ],
   "source": [
    "24*8*15"
   ]
  },
  {
   "cell_type": "code",
   "execution_count": 46,
   "id": "8aa90986",
   "metadata": {},
   "outputs": [
    {
     "data": {
      "text/plain": [
       "21"
      ]
     },
     "execution_count": 46,
     "metadata": {},
     "output_type": "execute_result"
    }
   ],
   "source": [
    "7*3"
   ]
  },
  {
   "cell_type": "code",
   "execution_count": 48,
   "id": "888351b6",
   "metadata": {},
   "outputs": [
    {
     "data": {
      "text/plain": [
       "34.285714285714285"
      ]
     },
     "execution_count": 48,
     "metadata": {},
     "output_type": "execute_result"
    }
   ],
   "source": [
    "720/21"
   ]
  },
  {
   "cell_type": "code",
   "execution_count": 62,
   "id": "6052a657",
   "metadata": {},
   "outputs": [
    {
     "data": {
      "text/latex": [
       "$8.261243 \\times 10^{-23} \\; \\mathrm{\\frac{J^{2}\\,s^{2}}{kg\\,\\mathring{A}^{2}}}$"
      ],
      "text/plain": [
       "<Quantity 8.26124304e-23 J2 s2 / (Angstrom2 kg)>"
      ]
     },
     "execution_count": 62,
     "metadata": {},
     "output_type": "execute_result"
    }
   ],
   "source": [
    "m = 3*c.m_p\n",
    "a = (c.hbar**2)/(2*m)\n",
    "NoV = 1/46\n",
    "x = a*((3*np.pi*np.pi*NoV/(u.AA**3))**(2/3))\n",
    "x/(10**-10)**2"
   ]
  },
  {
   "cell_type": "code",
   "execution_count": 63,
   "id": "60fa9b46",
   "metadata": {},
   "outputs": [
    {
     "data": {
      "text/plain": [
       "21"
      ]
     },
     "execution_count": 63,
     "metadata": {},
     "output_type": "execute_result"
    }
   ],
   "source": [
    "3*7"
   ]
  },
  {
   "cell_type": "code",
   "execution_count": 64,
   "id": "0afddfe8",
   "metadata": {},
   "outputs": [
    {
     "data": {
      "text/plain": [
       "2880"
      ]
     },
     "execution_count": 64,
     "metadata": {},
     "output_type": "execute_result"
    }
   ],
   "source": [
    "4*3*2*1*15*8"
   ]
  },
  {
   "cell_type": "code",
   "execution_count": 69,
   "id": "bfd659f2",
   "metadata": {},
   "outputs": [
    {
     "data": {
      "text/plain": [
       "2880"
      ]
     },
     "execution_count": 69,
     "metadata": {},
     "output_type": "execute_result"
    }
   ],
   "source": [
    "24*15*8"
   ]
  },
  {
   "cell_type": "code",
   "execution_count": 70,
   "id": "0b343217",
   "metadata": {},
   "outputs": [
    {
     "data": {
      "text/plain": [
       "960.0"
      ]
     },
     "execution_count": 70,
     "metadata": {},
     "output_type": "execute_result"
    }
   ],
   "source": [
    "2880/3"
   ]
  },
  {
   "cell_type": "code",
   "execution_count": 71,
   "id": "ada32957",
   "metadata": {},
   "outputs": [
    {
     "data": {
      "text/plain": [
       "240.0"
      ]
     },
     "execution_count": 71,
     "metadata": {},
     "output_type": "execute_result"
    }
   ],
   "source": [
    "960/4"
   ]
  },
  {
   "cell_type": "code",
   "execution_count": 102,
   "id": "1453ec3a",
   "metadata": {},
   "outputs": [],
   "source": [
    "def cv(x):\n",
    "    tc = 4\n",
    "    cv_val = 0.770*tc*(5/2)*((x/tc)**(3/2))\n",
    "    return cv_val"
   ]
  },
  {
   "cell_type": "code",
   "execution_count": 111,
   "id": "21ec5f81",
   "metadata": {},
   "outputs": [
    {
     "data": {
      "image/png": "[encoded data removed]",
      "text/plain": [
       "<Figure size 720x720 with 1 Axes>"
      ]
     },
     "metadata": {
      "needs_background": "light"
     },
     "output_type": "display_data"
    }
   ],
   "source": [
    "x = np.arange(0,10,.01)\n",
    "plt.plot(x, cv(x), label = '$C_v$')\n",
    "plt.axvline(4, c = 'k', ls = '--', label = '$T_c$')\n",
    "plt.legend()\n",
    "plt.xlabel('T')\n",
    "plt.ylabel('${C_v (T)} * 1/Nk_B$')\n",
    "plt.title('Problem #5');\n"
   ]
  },
  {
   "cell_type": "code",
   "execution_count": 106,
   "id": "a9c3d23f",
   "metadata": {},
   "outputs": [],
   "source": [
    "def dcv(x):\n",
    "    tc = 4\n",
    "    cv_val = 0.770*tc*(15/42)*((x/tc)**(1/2))\n",
    "    return cv_val"
   ]
  },
  {
   "cell_type": "code",
   "execution_count": 107,
   "id": "6a4c22e8",
   "metadata": {},
   "outputs": [
    {
     "data": {
      "image/png": "[encoded data removed]",
      "text/plain": [
       "<Figure size 720x720 with 1 Axes>"
      ]
     },
     "metadata": {
      "needs_background": "light"
     },
     "output_type": "display_data"
    }
   ],
   "source": [
    "x = np.arange(0,10,.01)\n",
    "plt.plot(x, dcv(x), label = '$C_v$')\n",
    "plt.axvline(4, c = 'k', ls = '--', label = '$T_c$')\n",
    "plt.legend()\n",
    "plt.xlabel('T')\n",
    "plt.ylabel('$C_v (T)$')\n",
    "plt.title('Problem #5');\n"
   ]
  },
  {
   "cell_type": "code",
   "execution_count": null,
   "id": "a8539487",
   "metadata": {},
   "outputs": [],
   "source": []
  }
 ],
 "metadata": {
  "kernelspec": {
   "display_name": "Python 3",
   "language": "python",
   "name": "python3"
  },
  "language_info": {
   "codemirror_mode": {
    "name": "ipython",
    "version": 3
   },
   "file_extension": ".py",
   "mimetype": "text/x-python",
   "name": "python",
   "nbconvert_exporter": "python",
   "pygments_lexer": "ipython3",
   "version": "3.9.6"
  }
 },
 "nbformat": 4,
 "nbformat_minor": 5
}
